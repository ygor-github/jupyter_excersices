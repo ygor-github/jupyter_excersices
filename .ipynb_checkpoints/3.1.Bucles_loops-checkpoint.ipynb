{
 "cells": [
  {
   "cell_type": "code",
   "execution_count": 6,
   "id": "cbdcebad-a96f-4a49-927e-851d83b310e1",
   "metadata": {},
   "outputs": [
    {
     "name": "stdout",
     "output_type": "stream",
     "text": [
      "Mango\n",
      "Pera\n",
      "Manzana\n",
      "Piña\n"
     ]
    }
   ],
   "source": [
    "#Bucles\n",
    "'''\n",
    "for variable in secuencia:\n",
    "    Bloque a repetir\n",
    "    #instrucciones\n",
    "'''\n",
    "#Ejemplo:\n",
    "frutas = [\"Mango\",\"Pera\",\"Manzana\",\"Piña\"]\n",
    "for fruta in frutas:\n",
    "    print(fruta)"
   ]
  },
  {
   "cell_type": "code",
   "execution_count": null,
   "id": "7b155879-c9a6-4c58-8e64-1381b7504f43",
   "metadata": {},
   "outputs": [],
   "source": []
  }
 ],
 "metadata": {
  "kernelspec": {
   "display_name": "Python (mi_entorno)",
   "language": "python",
   "name": "mi_entorno"
  },
  "language_info": {
   "codemirror_mode": {
    "name": "ipython",
    "version": 3
   },
   "file_extension": ".py",
   "mimetype": "text/x-python",
   "name": "python",
   "nbconvert_exporter": "python",
   "pygments_lexer": "ipython3",
   "version": "3.13.2"
  }
 },
 "nbformat": 4,
 "nbformat_minor": 5
}
