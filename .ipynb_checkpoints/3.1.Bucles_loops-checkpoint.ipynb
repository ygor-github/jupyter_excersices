{
 "cells": [
  {
   "cell_type": "code",
   "execution_count": 6,
   "id": "cbdcebad-a96f-4a49-927e-851d83b310e1",
   "metadata": {},
   "outputs": [
    {
     "name": "stdout",
     "output_type": "stream",
     "text": [
      "Mango\n",
      "Pera\n",
      "Manzana\n",
      "Piña\n"
     ]
    }
   ],
   "source": [
    "#Bucles\n",
    "'''\n",
    "for variable in secuencia:\n",
    "    #Bloque a repetir\n",
    "    instrucciones\n",
    "'''\n",
    "#Ejemplo:\n",
    "frutas = [\"Mango\",\"Pera\",\"Manzana\",\"Piña\"]\n",
    "for fruta in frutas:\n",
    "    print(fruta)"
   ]
  },
  {
   "cell_type": "code",
   "execution_count": 8,
   "id": "020e1646-270f-4c5f-b8b1-8cabae6da4f9",
   "metadata": {},
   "outputs": [
    {
     "name": "stdout",
     "output_type": "stream",
     "text": [
      "0\n",
      "1\n",
      "2\n",
      "3\n",
      "4\n"
     ]
    }
   ],
   "source": [
    "'''\n",
    "while condición:\n",
    "    #Bloque de código a repetir\n",
    "    instrucciones\n",
    "'''\n",
    "#Ejemplo:\n",
    "contador = 0\n",
    "while contador < 5:\n",
    "    print(contador)\n",
    "    contador +=1"
   ]
  },
  {
   "cell_type": "code",
   "execution_count": 9,
   "id": "1b1ff2a7-c74f-478c-9901-243c18eb7edc",
   "metadata": {},
   "outputs": [
    {
     "name": "stdout",
     "output_type": "stream",
     "text": [
      "0\n",
      "1\n",
      "2\n",
      "3\n",
      "4\n"
     ]
    }
   ],
   "source": [
    "#Break\n",
    "contador=0\n",
    "while True:\n",
    "    print(contador)\n",
    "    contador +=1\n",
    "    if contador == 5:\n",
    "        break"
   ]
  },
  {
   "cell_type": "code",
   "execution_count": 14,
   "id": "fbebd303-c64c-481d-8b6c-a4aa5a832329",
   "metadata": {},
   "outputs": [
    {
     "name": "stdout",
     "output_type": "stream",
     "text": [
      "1\n",
      "3\n",
      "5\n",
      "7\n",
      "9\n"
     ]
    }
   ],
   "source": [
    "#Continue\n",
    "for i in range(10):\n",
    "    if i % 2 == 0:\n",
    "        continue\n",
    "    print(i)"
   ]
  },
  {
   "cell_type": "code",
   "execution_count": 26,
   "id": "6ebecf07-d36a-4705-9a30-41022e88da15",
   "metadata": {},
   "outputs": [
    {
     "name": "stdout",
     "output_type": "stream",
     "text": [
      "12\n"
     ]
    }
   ],
   "source": [
    "#Pass\n",
    "for i in range(2,18,2):\n",
    "    pass\n",
    "    if i == 12:    \n",
    "        print(i)"
   ]
  },
  {
   "cell_type": "code",
   "execution_count": null,
   "id": "bed6fa5f-6c5d-4e7c-bb64-6d50da95ce79",
   "metadata": {},
   "outputs": [],
   "source": []
  }
 ],
 "metadata": {
  "kernelspec": {
   "display_name": "Python (mi_entorno)",
   "language": "python",
   "name": "mi_entorno"
  },
  "language_info": {
   "codemirror_mode": {
    "name": "ipython",
    "version": 3
   },
   "file_extension": ".py",
   "mimetype": "text/x-python",
   "name": "python",
   "nbconvert_exporter": "python",
   "pygments_lexer": "ipython3",
   "version": "3.13.2"
  }
 },
 "nbformat": 4,
 "nbformat_minor": 5
}
