{
 "cells": [
  {
   "cell_type": "code",
   "execution_count": 2,
   "id": "85caaff5-8840-4bf0-8d25-58f5aad846e6",
   "metadata": {},
   "outputs": [],
   "source": [
    "#Dictionaries\n",
    "# dictionary = {\"key\":\"value\"}\n",
    "\n",
    "# Creating\n",
    "person = {\"name\": \"Juan\",\"old\":24,\"city\":\"Madrid\"}"
   ]
  },
  {
   "cell_type": "code",
   "execution_count": 7,
   "id": "c8cf35b4-34f9-4074-a75c-1fd20373977d",
   "metadata": {},
   "outputs": [
    {
     "name": "stdout",
     "output_type": "stream",
     "text": [
      "Juan\n",
      "24\n",
      "Madrid\n"
     ]
    }
   ],
   "source": [
    "#getting values\n",
    "print(person[\"name\"])\n",
    "print(person[\"old\"])\n",
    "print(person[\"city\"])"
   ]
  },
  {
   "cell_type": "code",
   "execution_count": 17,
   "id": "ce420104-b787-4867-9546-334634a40b5b",
   "metadata": {},
   "outputs": [
    {
     "data": {
      "text/plain": [
       "('Juan', 24, 'Madrid')"
      ]
     },
     "execution_count": 17,
     "metadata": {},
     "output_type": "execute_result"
    }
   ],
   "source": [
    "#Using get()\n",
    "person.get(\"name\"),person.get(\"old\"),person.get(\"city\")\n"
   ]
  },
  {
   "cell_type": "code",
   "execution_count": 18,
   "id": "3835a371-a2bb-40bb-96cb-56d692ec999a",
   "metadata": {},
   "outputs": [],
   "source": [
    "#Methods\n",
    "    # keys()\n",
    "    # values()\n",
    "    # items()\n",
    "    # update(other_dict)"
   ]
  },
  {
   "cell_type": "code",
   "execution_count": 19,
   "id": "6ab0987a-1550-4e64-8b56-b0a2fc95481e",
   "metadata": {},
   "outputs": [
    {
     "data": {
      "text/plain": [
       "dict_keys(['name', 'old', 'city'])"
      ]
     },
     "execution_count": 19,
     "metadata": {},
     "output_type": "execute_result"
    }
   ],
   "source": [
    "person.keys()"
   ]
  },
  {
   "cell_type": "code",
   "execution_count": 22,
   "id": "87fe7d2c-6e4e-40e4-a844-a37bc14cf799",
   "metadata": {},
   "outputs": [
    {
     "data": {
      "text/plain": [
       "dict_values(['Juan', 24, 'Madrid'])"
      ]
     },
     "execution_count": 22,
     "metadata": {},
     "output_type": "execute_result"
    }
   ],
   "source": [
    "person.values()"
   ]
  },
  {
   "cell_type": "code",
   "execution_count": 24,
   "id": "5ac3a478-47ef-44ce-9a79-e79fa01eaaab",
   "metadata": {},
   "outputs": [
    {
     "data": {
      "text/plain": [
       "dict_items([('name', 'Juan'), ('old', 24), ('city', 'Madrid')])"
      ]
     },
     "execution_count": 24,
     "metadata": {},
     "output_type": "execute_result"
    }
   ],
   "source": [
    "person.items()"
   ]
  },
  {
   "cell_type": "code",
   "execution_count": 25,
   "id": "89d688d5-dd8c-418e-bd3f-0a070e176954",
   "metadata": {},
   "outputs": [],
   "source": [
    "person.update({\"profession\":\"Ingenier\"})"
   ]
  },
  {
   "cell_type": "code",
   "execution_count": 26,
   "id": "e3eb1708-12cb-490c-8259-77a9c4955b91",
   "metadata": {},
   "outputs": [
    {
     "data": {
      "text/plain": [
       "{'name': 'Juan', 'old': 24, 'city': 'Madrid', 'profession': 'Ingenier'}"
      ]
     },
     "execution_count": 26,
     "metadata": {},
     "output_type": "execute_result"
    }
   ],
   "source": [
    "person"
   ]
  },
  {
   "cell_type": "code",
   "execution_count": null,
   "id": "511d021d-408d-4ff6-bedb-54c224c2b187",
   "metadata": {},
   "outputs": [],
   "source": []
  }
 ],
 "metadata": {
  "kernelspec": {
   "display_name": "Python 3 (ipykernel)",
   "language": "python",
   "name": "python3"
  },
  "language_info": {
   "codemirror_mode": {
    "name": "ipython",
    "version": 3
   },
   "file_extension": ".py",
   "mimetype": "text/x-python",
   "name": "python",
   "nbconvert_exporter": "python",
   "pygments_lexer": "ipython3",
   "version": "3.13.2"
  }
 },
 "nbformat": 4,
 "nbformat_minor": 5
}
