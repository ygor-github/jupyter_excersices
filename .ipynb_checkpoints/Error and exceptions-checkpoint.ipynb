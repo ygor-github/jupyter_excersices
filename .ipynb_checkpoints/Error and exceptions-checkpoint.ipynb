{
 "cells": [
  {
   "cell_type": "code",
   "execution_count": 16,
   "id": "ebb53291-2e8f-46f3-8586-6b4c7a8fe7dc",
   "metadata": {},
   "outputs": [
    {
     "name": "stdout",
     "output_type": "stream",
     "text": [
      "Error division\n"
     ]
    }
   ],
   "source": [
    "#continuar\n",
    "try:\n",
    "    #this code can generate an exception \n",
    "    resultado = 10 / 0\n",
    "    print(resultado)\n",
    "except ZeroDivisionError:\n",
    "    print(\"Error division\")\n",
    "except ValueError:\n",
    "    print(\"Error value\")"
   ]
  },
  {
   "cell_type": "code",
   "execution_count": null,
   "id": "322c2ef8-0966-4b31-8733-b4ff450f185b",
   "metadata": {},
   "outputs": [],
   "source": []
  }
 ],
 "metadata": {
  "kernelspec": {
   "display_name": "Python 3 (ipykernel)",
   "language": "python",
   "name": "python3"
  },
  "language_info": {
   "codemirror_mode": {
    "name": "ipython",
    "version": 3
   },
   "file_extension": ".py",
   "mimetype": "text/x-python",
   "name": "python",
   "nbconvert_exporter": "python",
   "pygments_lexer": "ipython3",
   "version": "3.11.4"
  }
 },
 "nbformat": 4,
 "nbformat_minor": 5
}
