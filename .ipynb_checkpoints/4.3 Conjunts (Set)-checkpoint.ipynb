{
 "cells": [
  {
   "cell_type": "code",
   "execution_count": 17,
   "id": "c739bbad-c1fc-42d2-86ca-22c165138976",
   "metadata": {},
   "outputs": [],
   "source": [
    "#Creating\n",
    "fruits = {\"Apple\",\"Banana\",\"Orange\"}\n",
    "nums = set([1,2,4,5])"
   ]
  },
  {
   "cell_type": "raw",
   "id": "6f29d05f-f2d3-46ce-83c3-93090e152782",
   "metadata": {},
   "source": [
    "We can optation as \n",
    "union (|), \n",
    "intersection (&), \n",
    "diference (-) and \n",
    "simetric diferece (^)\n",
    "\n",
    "Examples:"
   ]
  },
  {
   "cell_type": "code",
   "execution_count": 7,
   "id": "1884a2c0-969d-47fe-a88c-f2008b543af1",
   "metadata": {},
   "outputs": [
    {
     "data": {
      "text/plain": [
       "{1, 2, 3, 4, 5}"
      ]
     },
     "execution_count": 7,
     "metadata": {},
     "output_type": "execute_result"
    }
   ],
   "source": [
    "conjunt1 = {1,2,3}\n",
    "conjunt2 = {3,4,5}\n",
    "\n",
    "union = conjunt1 | conjunt2\n",
    "union"
   ]
  },
  {
   "cell_type": "code",
   "execution_count": 10,
   "id": "ff4e415f-2e6a-402d-b4f2-fa274aec0418",
   "metadata": {},
   "outputs": [
    {
     "data": {
      "text/plain": [
       "{3}"
      ]
     },
     "execution_count": 10,
     "metadata": {},
     "output_type": "execute_result"
    }
   ],
   "source": [
    "interset = conjunt1 & conjunt2\n",
    "interset"
   ]
  },
  {
   "cell_type": "code",
   "execution_count": 13,
   "id": "43262c01-0ae4-4573-9b23-bb9dc91a7a4f",
   "metadata": {},
   "outputs": [
    {
     "data": {
      "text/plain": [
       "{1, 2}"
      ]
     },
     "execution_count": 13,
     "metadata": {},
     "output_type": "execute_result"
    }
   ],
   "source": [
    "dif = conjunt1 - conjunt2\n",
    "dif"
   ]
  },
  {
   "cell_type": "code",
   "execution_count": 14,
   "id": "3c883634-91f0-43b8-b58d-4e38af6b667b",
   "metadata": {},
   "outputs": [
    {
     "data": {
      "text/plain": [
       "{1, 2, 4, 5}"
      ]
     },
     "execution_count": 14,
     "metadata": {},
     "output_type": "execute_result"
    }
   ],
   "source": [
    "dif_simetric = conjunt1 ^ conjunt2\n",
    "dif_simetric"
   ]
  },
  {
   "cell_type": "markdown",
   "id": "5cfe77e2-6d5d-4632-b886-88939c11cbe1",
   "metadata": {},
   "source": [
    "#### Conjunts methods\n",
    "- commun methods:\n",
    "  - add(element)\n",
    "  - remove(element)\n",
    "  - dicard(element)\n",
    "  - clear()"
   ]
  },
  {
   "cell_type": "code",
   "execution_count": 19,
   "id": "af2629c6-65c3-4125-938a-2d0f62d94bb9",
   "metadata": {},
   "outputs": [
    {
     "data": {
      "text/plain": [
       "{'Apple', 'Banana', 'Orange', 'Pear'}"
      ]
     },
     "execution_count": 19,
     "metadata": {},
     "output_type": "execute_result"
    }
   ],
   "source": [
    "fruits.add(\"Pear\")\n",
    "fruits"
   ]
  },
  {
   "cell_type": "code",
   "execution_count": 20,
   "id": "d13f00e5-fba6-4b9c-888a-14074c8f5547",
   "metadata": {},
   "outputs": [
    {
     "data": {
      "text/plain": [
       "{'Apple', 'Orange', 'Pear'}"
      ]
     },
     "execution_count": 20,
     "metadata": {},
     "output_type": "execute_result"
    }
   ],
   "source": [
    "fruits.remove(\"Banana\")\n",
    "fruits"
   ]
  },
  {
   "cell_type": "code",
   "execution_count": 21,
   "id": "8b6e7fbc-7c18-45ac-a470-18b86f59d682",
   "metadata": {},
   "outputs": [
    {
     "data": {
      "text/plain": [
       "{'Apple', 'Orange', 'Pear'}"
      ]
     },
     "execution_count": 21,
     "metadata": {},
     "output_type": "execute_result"
    }
   ],
   "source": [
    "fruits.discard(\"Grape\")\n",
    "fruits"
   ]
  },
  {
   "cell_type": "code",
   "execution_count": 22,
   "id": "8c03abb5-cfa8-4c4e-adcc-e7ff971448bc",
   "metadata": {},
   "outputs": [
    {
     "data": {
      "text/plain": [
       "set()"
      ]
     },
     "execution_count": 22,
     "metadata": {},
     "output_type": "execute_result"
    }
   ],
   "source": [
    "fruits.clear()\n",
    "fruits"
   ]
  },
  {
   "cell_type": "code",
   "execution_count": 42,
   "id": "e41a979b-9d09-43b0-8297-aefb2e430c07",
   "metadata": {},
   "outputs": [],
   "source": [
    "numero = 7\n",
    "if numero % 2 == 0:\n",
    "    resultado = \"Par\"\n",
    "else:\n",
    "    resultado = \"Impar\""
   ]
  },
  {
   "cell_type": "code",
   "execution_count": 43,
   "id": "a031dee2-6e20-44ee-91fe-fa305479b2bb",
   "metadata": {},
   "outputs": [
    {
     "name": "stdout",
     "output_type": "stream",
     "text": [
      "Impar\n"
     ]
    }
   ],
   "source": [
    "print(resultado)\n"
   ]
  },
  {
   "cell_type": "code",
   "execution_count": 44,
   "id": "a70ec391-ffc5-4500-83ed-4c1200734b50",
   "metadata": {},
   "outputs": [
    {
     "data": {
      "text/plain": [
       "23"
      ]
     },
     "execution_count": 44,
     "metadata": {},
     "output_type": "execute_result"
    }
   ],
   "source": [
    "def multiplicar(a,b):\n",
    "    return a*b\n",
    "\n",
    "resultado = multiplicar(5,3) + multiplicar(2,4)\n",
    "resultado"
   ]
  },
  {
   "cell_type": "code",
   "execution_count": null,
   "id": "3be120aa-93f7-4d4a-8fa2-f36be2551b50",
   "metadata": {},
   "outputs": [],
   "source": []
  }
 ],
 "metadata": {
  "kernelspec": {
   "display_name": "Python 3 (ipykernel)",
   "language": "python",
   "name": "python3"
  },
  "language_info": {
   "codemirror_mode": {
    "name": "ipython",
    "version": 3
   },
   "file_extension": ".py",
   "mimetype": "text/x-python",
   "name": "python",
   "nbconvert_exporter": "python",
   "pygments_lexer": "ipython3",
   "version": "3.13.2"
  }
 },
 "nbformat": 4,
 "nbformat_minor": 5
}
