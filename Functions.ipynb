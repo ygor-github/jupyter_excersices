{
 "cells": [
  {
   "cell_type": "code",
   "execution_count": 1,
   "id": "8e3ef7bf-c91d-4f27-9333-4a011a531107",
   "metadata": {},
   "outputs": [
    {
     "name": "stdout",
     "output_type": "stream",
     "text": [
      "Hello World\n"
     ]
    }
   ],
   "source": [
    "def greet():\n",
    "    print(\"Hello World\")\n",
    "\n",
    "greet()"
   ]
  },
  {
   "cell_type": "code",
   "execution_count": 4,
   "id": "e48d2cb2-5b16-4b26-a887-e3114bbffa69",
   "metadata": {},
   "outputs": [
    {
     "name": "stdout",
     "output_type": "stream",
     "text": [
      "Hello Ramon\n",
      "Hello María\n"
     ]
    }
   ],
   "source": [
    "def greet(name):\n",
    "    print(f'Hello {name}')\n",
    "greet(\"Ramon\")\n",
    "greet(\"María\")"
   ]
  },
  {
   "cell_type": "code",
   "execution_count": 4,
   "id": "84711677-63b0-437c-a5ea-cafaa25241db",
   "metadata": {},
   "outputs": [],
   "source": [
    "#returns values\n",
    "def sum_numbers(a,b):\n",
    "    return f'The sum of {a} + {b} is {a + b}'\n",
    "result = sum_numbers(3,5)"
   ]
  },
  {
   "cell_type": "code",
   "execution_count": 6,
   "id": "1cfcb55a-1315-479e-a6de-e120996ced17",
   "metadata": {},
   "outputs": [
    {
     "data": {
      "text/plain": [
       "31"
      ]
     },
     "execution_count": 6,
     "metadata": {},
     "output_type": "execute_result"
    }
   ],
   "source": [
    "#sum is a reserved function of Python for elemt lists\n",
    "sum([2,5,9,8,6,1])"
   ]
  },
  {
   "cell_type": "code",
   "execution_count": 10,
   "id": "14839cde-831c-4930-b54f-8ced451ac513",
   "metadata": {},
   "outputs": [
    {
     "data": {
      "text/html": [
       "<div>\n",
       "<style scoped>\n",
       "    .dataframe tbody tr th:only-of-type {\n",
       "        vertical-align: middle;\n",
       "    }\n",
       "\n",
       "    .dataframe tbody tr th {\n",
       "        vertical-align: top;\n",
       "    }\n",
       "\n",
       "    .dataframe thead th {\n",
       "        text-align: right;\n",
       "    }\n",
       "</style>\n",
       "<table border=\"1\" class=\"dataframe\">\n",
       "  <thead>\n",
       "    <tr style=\"text-align: right;\">\n",
       "      <th></th>\n",
       "      <th>Numbers</th>\n",
       "      <th>Multi*2</th>\n",
       "    </tr>\n",
       "  </thead>\n",
       "  <tbody>\n",
       "    <tr>\n",
       "      <th>0</th>\n",
       "      <td>1</td>\n",
       "      <td>&lt;function &lt;lambda&gt; at 0x7f5803ce5940&gt;</td>\n",
       "    </tr>\n",
       "    <tr>\n",
       "      <th>1</th>\n",
       "      <td>2</td>\n",
       "      <td>&lt;function &lt;lambda&gt; at 0x7f5803ce5940&gt;</td>\n",
       "    </tr>\n",
       "    <tr>\n",
       "      <th>2</th>\n",
       "      <td>3</td>\n",
       "      <td>&lt;function &lt;lambda&gt; at 0x7f5803ce5940&gt;</td>\n",
       "    </tr>\n",
       "    <tr>\n",
       "      <th>3</th>\n",
       "      <td>4</td>\n",
       "      <td>&lt;function &lt;lambda&gt; at 0x7f5803ce5940&gt;</td>\n",
       "    </tr>\n",
       "    <tr>\n",
       "      <th>4</th>\n",
       "      <td>5</td>\n",
       "      <td>&lt;function &lt;lambda&gt; at 0x7f5803ce5940&gt;</td>\n",
       "    </tr>\n",
       "    <tr>\n",
       "      <th>5</th>\n",
       "      <td>6</td>\n",
       "      <td>&lt;function &lt;lambda&gt; at 0x7f5803ce5940&gt;</td>\n",
       "    </tr>\n",
       "    <tr>\n",
       "      <th>6</th>\n",
       "      <td>7</td>\n",
       "      <td>&lt;function &lt;lambda&gt; at 0x7f5803ce5940&gt;</td>\n",
       "    </tr>\n",
       "    <tr>\n",
       "      <th>7</th>\n",
       "      <td>8</td>\n",
       "      <td>&lt;function &lt;lambda&gt; at 0x7f5803ce5940&gt;</td>\n",
       "    </tr>\n",
       "    <tr>\n",
       "      <th>8</th>\n",
       "      <td>9</td>\n",
       "      <td>&lt;function &lt;lambda&gt; at 0x7f5803ce5940&gt;</td>\n",
       "    </tr>\n",
       "    <tr>\n",
       "      <th>9</th>\n",
       "      <td>10</td>\n",
       "      <td>&lt;function &lt;lambda&gt; at 0x7f5803ce5940&gt;</td>\n",
       "    </tr>\n",
       "  </tbody>\n",
       "</table>\n",
       "</div>"
      ],
      "text/plain": [
       "   Numbers                                Multi*2\n",
       "0        1  <function <lambda> at 0x7f5803ce5940>\n",
       "1        2  <function <lambda> at 0x7f5803ce5940>\n",
       "2        3  <function <lambda> at 0x7f5803ce5940>\n",
       "3        4  <function <lambda> at 0x7f5803ce5940>\n",
       "4        5  <function <lambda> at 0x7f5803ce5940>\n",
       "5        6  <function <lambda> at 0x7f5803ce5940>\n",
       "6        7  <function <lambda> at 0x7f5803ce5940>\n",
       "7        8  <function <lambda> at 0x7f5803ce5940>\n",
       "8        9  <function <lambda> at 0x7f5803ce5940>\n",
       "9       10  <function <lambda> at 0x7f5803ce5940>"
      ]
     },
     "execution_count": 10,
     "metadata": {},
     "output_type": "execute_result"
    }
   ],
   "source": [
    "#Anonimus function \"lambda\"\n",
    "numbers = [ 1,2,3,4,5,6,7,8,9,10]\n",
    "import pandas as pd\n",
    "numbers = pd.DataFrame(numbers, columns=[\"Numbers\"])\n",
    "numbers[\"Multi*2\"] = lambda x: x * 2\n",
    "numbers"
   ]
  },
  {
   "cell_type": "code",
   "execution_count": null,
   "id": "890f514d-64ff-409c-9cbc-7dd038151ed3",
   "metadata": {},
   "outputs": [],
   "source": []
  }
 ],
 "metadata": {
  "kernelspec": {
   "display_name": "Python (mi_entorno)",
   "language": "python",
   "name": "mi_entorno"
  },
  "language_info": {
   "codemirror_mode": {
    "name": "ipython",
    "version": 3
   },
   "file_extension": ".py",
   "mimetype": "text/x-python",
   "name": "python",
   "nbconvert_exporter": "python",
   "pygments_lexer": "ipython3",
   "version": "3.13.2"
  }
 },
 "nbformat": 4,
 "nbformat_minor": 5
}
