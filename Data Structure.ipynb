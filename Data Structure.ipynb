{
 "cells": [
  {
   "cell_type": "code",
   "execution_count": 3,
   "id": "91f67e4b-9fae-4276-b530-9f6a4f9cfe19",
   "metadata": {},
   "outputs": [
    {
     "name": "stdout",
     "output_type": "stream",
     "text": [
      "Apple\n",
      "Banana\n",
      "Orange\n",
      "Lemon\n"
     ]
    }
   ],
   "source": [
    "#Creating Lists\n",
    "fruits = [\"Apple\", \"Banana\", \"Orange\",\"Lemon\"]\n",
    "print(fruits[0]) # Print \"Apple\"\n",
    "print(fruits[1]) #Print \"Banana\"\n",
    "print(fruits[2]) #Print \"Orange\"\n",
    "print(fruits[3]) #Print \"Lemon\""
   ]
  },
  {
   "cell_type": "code",
   "execution_count": 31,
   "id": "c30fc79f-1b97-47b7-9c63-76bf31e65b0c",
   "metadata": {},
   "outputs": [
    {
     "name": "stdout",
     "output_type": "stream",
     "text": [
      "Lemon\n"
     ]
    }
   ],
   "source": [
    "print(fruits[-1])"
   ]
  },
  {
   "cell_type": "code",
   "execution_count": 4,
   "id": "faa4f72d-6950-4161-a595-a0abd681f334",
   "metadata": {},
   "outputs": [
    {
     "name": "stdout",
     "output_type": "stream",
     "text": [
      "['Apple', 'Banana', 'Orange', 'Lemon', 'Pear']\n"
     ]
    }
   ],
   "source": [
    "#Method of lists\n",
    "''' \n",
    "- append(element)\n",
    "- insert(index, element)\n",
    "- remove(element)\n",
    "- pop(index)\n",
    "- sort()\n",
    "- reverse()\n",
    "'''\n",
    "#Examples:\n",
    "fruits.append(\"Pear\")\n",
    "print(fruits)"
   ]
  },
  {
   "cell_type": "code",
   "execution_count": 5,
   "id": "413223bf-1da5-4617-9665-77d16bc1be66",
   "metadata": {},
   "outputs": [
    {
     "data": {
      "text/plain": [
       "['Apple', 'Grape', 'Banana', 'Orange', 'Lemon', 'Pear']"
      ]
     },
     "execution_count": 5,
     "metadata": {},
     "output_type": "execute_result"
    }
   ],
   "source": [
    "#insert\n",
    "fruits.insert(1, \"Grape\")\n",
    "fruits"
   ]
  },
  {
   "cell_type": "code",
   "execution_count": 6,
   "id": "c009311a-5053-47c4-9321-dcfa9bb34e7f",
   "metadata": {},
   "outputs": [
    {
     "data": {
      "text/plain": [
       "['Apple', 'Grape', 'Orange', 'Lemon', 'Pear']"
      ]
     },
     "execution_count": 6,
     "metadata": {},
     "output_type": "execute_result"
    }
   ],
   "source": [
    "#remove\n",
    "fruits.remove('Banana')\n",
    "fruits"
   ]
  },
  {
   "cell_type": "code",
   "execution_count": 7,
   "id": "618a4f84-2eab-43cc-80ff-5e95f17c3996",
   "metadata": {},
   "outputs": [
    {
     "data": {
      "text/plain": [
       "['Apple', 'Grape', 'Lemon', 'Pear']"
      ]
     },
     "execution_count": 7,
     "metadata": {},
     "output_type": "execute_result"
    }
   ],
   "source": [
    "#pop\n",
    "fruit_deleted = fruits.pop(2)\n",
    "fruit_deleted\n",
    "fruits"
   ]
  },
  {
   "cell_type": "code",
   "execution_count": 8,
   "id": "9b96d8f2-d0fa-4d27-b7d4-4e99c4266700",
   "metadata": {},
   "outputs": [
    {
     "data": {
      "text/plain": [
       "'Orange'"
      ]
     },
     "execution_count": 8,
     "metadata": {},
     "output_type": "execute_result"
    }
   ],
   "source": [
    "fruit_deleted"
   ]
  },
  {
   "cell_type": "code",
   "execution_count": 16,
   "id": "e5f5cab9-49a4-4458-95f7-7d4eef75ccce",
   "metadata": {},
   "outputs": [
    {
     "data": {
      "text/plain": [
       "['Pear', 'Lemon', 'Grape', 'Apple']"
      ]
     },
     "execution_count": 16,
     "metadata": {},
     "output_type": "execute_result"
    }
   ],
   "source": [
    "#Reverse\n",
    "fruits.reverse()\n",
    "fruits"
   ]
  },
  {
   "cell_type": "code",
   "execution_count": 17,
   "id": "4faa26d8-9219-4314-919b-0ee7e57655d9",
   "metadata": {},
   "outputs": [
    {
     "data": {
      "text/plain": [
       "['Apple', 'Grape', 'Lemon', 'Pear']"
      ]
     },
     "execution_count": 17,
     "metadata": {},
     "output_type": "execute_result"
    }
   ],
   "source": [
    "#sort\n",
    "fruits.sort()\n",
    "fruits"
   ]
  },
  {
   "cell_type": "code",
   "execution_count": 18,
   "id": "4083a04b-89f9-41c0-bd72-3df31fd0f38e",
   "metadata": {},
   "outputs": [
    {
     "data": {
      "text/plain": [
       "[4, 16]"
      ]
     },
     "execution_count": 18,
     "metadata": {},
     "output_type": "execute_result"
    }
   ],
   "source": [
    "#listas de compresión\n",
    "# new_list = [expresion for element in secuency if condition]\n",
    "numbers=[1,2,3,4,5]\n",
    "cube_numbers = [ x ** 2 for x in numbers if x % 2 == 0]\n",
    "cube_numbers\n"
   ]
  },
  {
   "cell_type": "code",
   "execution_count": null,
   "id": "7388b22d-fd2a-428a-95ae-ad8f8bc8a9dd",
   "metadata": {},
   "outputs": [],
   "source": []
  }
 ],
 "metadata": {
  "kernelspec": {
   "display_name": "Python (mi_entorno)",
   "language": "python",
   "name": "mi_entorno"
  },
  "language_info": {
   "codemirror_mode": {
    "name": "ipython",
    "version": 3
   },
   "file_extension": ".py",
   "mimetype": "text/x-python",
   "name": "python",
   "nbconvert_exporter": "python",
   "pygments_lexer": "ipython3",
   "version": "3.13.2"
  }
 },
 "nbformat": 4,
 "nbformat_minor": 5
}
