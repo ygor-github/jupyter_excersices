{
 "cells": [
  {
   "cell_type": "code",
   "execution_count": 2,
   "id": "91f67e4b-9fae-4276-b530-9f6a4f9cfe19",
   "metadata": {},
   "outputs": [
    {
     "name": "stdout",
     "output_type": "stream",
     "text": [
      "Apple\n",
      "Banana\n",
      "Orange\n",
      "Lemon\n"
     ]
    }
   ],
   "source": [
    "#Creating Lists\n",
    "fruits = [\"Apple\", \"Banana\", \"Orange\",\"Lemon\"]\n",
    "print(fruits[0]) # Print \"Apple\"\n",
    "print(fruits[1]) #Print \"Banana\"\n",
    "print(fruits[2]) #Print \"Orange\"\n",
    "print(fruits[3]) #Print \"Lemon\""
   ]
  },
  {
   "cell_type": "code",
   "execution_count": 4,
   "id": "c30fc79f-1b97-47b7-9c63-76bf31e65b0c",
   "metadata": {},
   "outputs": [
    {
     "name": "stdout",
     "output_type": "stream",
     "text": [
      "Lemon\n"
     ]
    }
   ],
   "source": [
    "print(fruits[-1])"
   ]
  },
  {
   "cell_type": "code",
   "execution_count": 5,
   "id": "faa4f72d-6950-4161-a595-a0abd681f334",
   "metadata": {},
   "outputs": [
    {
     "name": "stdout",
     "output_type": "stream",
     "text": [
      "['Apple', 'Banana', 'Orange', 'Lemon', 'Pear']\n"
     ]
    }
   ],
   "source": [
    "#Method of lists\n",
    "''' \n",
    "- append(element)\n",
    "- insert(index, element)\n",
    "- remove(element)\n",
    "- pop(index)\n",
    "- sort()\n",
    "- reverse()\n",
    "'''\n",
    "#Examples:\n",
    "fruits.append(\"Pear\")\n",
    "print(fruits)"
   ]
  },
  {
   "cell_type": "code",
   "execution_count": null,
   "id": "413223bf-1da5-4617-9665-77d16bc1be66",
   "metadata": {},
   "outputs": [],
   "source": []
  }
 ],
 "metadata": {
  "kernelspec": {
   "display_name": "Python (mi_entorno)",
   "language": "python",
   "name": "mi_entorno"
  },
  "language_info": {
   "codemirror_mode": {
    "name": "ipython",
    "version": 3
   },
   "file_extension": ".py",
   "mimetype": "text/x-python",
   "name": "python",
   "nbconvert_exporter": "python",
   "pygments_lexer": "ipython3",
   "version": "3.13.2"
  }
 },
 "nbformat": 4,
 "nbformat_minor": 5
}
