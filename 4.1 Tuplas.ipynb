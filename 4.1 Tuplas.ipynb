{
 "cells": [
  {
   "cell_type": "code",
   "execution_count": 5,
   "id": "7c4facb2-b4e7-42f7-862b-6ea96d31c7c8",
   "metadata": {},
   "outputs": [
    {
     "name": "stdout",
     "output_type": "stream",
     "text": [
      "3\n",
      "4\n"
     ]
    }
   ],
   "source": [
    "#Creating Tuplas\n",
    "point = (3, 4)\n",
    "print(point[0])\n",
    "print(point[1])"
   ]
  },
  {
   "cell_type": "code",
   "execution_count": 6,
   "id": "c7e34efd-d165-44e9-a3f6-147dd1337075",
   "metadata": {},
   "outputs": [],
   "source": [
    "tupla = ( 1, 2, 3, 2, 4, 2)"
   ]
  },
  {
   "cell_type": "code",
   "execution_count": 8,
   "id": "3ff88598-f838-4ea7-814d-97c3c58f3839",
   "metadata": {},
   "outputs": [
    {
     "data": {
      "text/plain": [
       "1"
      ]
     },
     "execution_count": 8,
     "metadata": {},
     "output_type": "execute_result"
    }
   ],
   "source": [
    "tupla.index(2)"
   ]
  },
  {
   "cell_type": "code",
   "execution_count": 10,
   "id": "6c12f722-9949-4933-aa8f-1fd7f164fdb6",
   "metadata": {},
   "outputs": [
    {
     "data": {
      "text/plain": [
       "3"
      ]
     },
     "execution_count": 10,
     "metadata": {},
     "output_type": "execute_result"
    }
   ],
   "source": [
    "tupla.count(2)"
   ]
  },
  {
   "cell_type": "code",
   "execution_count": 12,
   "id": "29c66f94-1f20-42bf-acc9-34326b63b235",
   "metadata": {},
   "outputs": [
    {
     "data": {
      "text/plain": [
       "6"
      ]
     },
     "execution_count": 12,
     "metadata": {},
     "output_type": "execute_result"
    }
   ],
   "source": [
    "len(tupla)"
   ]
  },
  {
   "cell_type": "code",
   "execution_count": 15,
   "id": "b4ef5c6d-2b97-4f17-8954-9ca322015b21",
   "metadata": {},
   "outputs": [
    {
     "data": {
      "text/plain": [
       "3"
      ]
     },
     "execution_count": 15,
     "metadata": {},
     "output_type": "execute_result"
    }
   ],
   "source": [
    "tupla.index(2,2)"
   ]
  },
  {
   "cell_type": "code",
   "execution_count": 16,
   "id": "c9f841b7-925f-48ad-90a5-26483a35f906",
   "metadata": {},
   "outputs": [
    {
     "data": {
      "text/plain": [
       "3"
      ]
     },
     "execution_count": 16,
     "metadata": {},
     "output_type": "execute_result"
    }
   ],
   "source": [
    "tupla.index(2,2,4)"
   ]
  },
  {
   "cell_type": "code",
   "execution_count": null,
   "id": "129150ee-d962-4294-8f69-1c9635002e9d",
   "metadata": {},
   "outputs": [],
   "source": []
  }
 ],
 "metadata": {
  "kernelspec": {
   "display_name": "Python (mi_entorno)",
   "language": "python",
   "name": "mi_entorno"
  },
  "language_info": {
   "codemirror_mode": {
    "name": "ipython",
    "version": 3
   },
   "file_extension": ".py",
   "mimetype": "text/x-python",
   "name": "python",
   "nbconvert_exporter": "python",
   "pygments_lexer": "ipython3",
   "version": "3.13.2"
  }
 },
 "nbformat": 4,
 "nbformat_minor": 5
}
